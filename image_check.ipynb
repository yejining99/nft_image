{
 "cells": [
  {
   "cell_type": "code",
   "execution_count": 1,
   "id": "e441495e",
   "metadata": {},
   "outputs": [],
   "source": [
    "import pandas as pd\n",
    "import numpy as np\n",
    "from scipy.sparse import load_npz\n",
    "\n",
    "import time \n",
    "import os\n",
    "import random\n",
    "from selenium import webdriver\n",
    "from selenium.webdriver.common.keys import Keys\n",
    "from selenium.common.exceptions import NoSuchElementException\n",
    "from selenium.webdriver.common.by import By\n",
    "from urllib import request\n",
    "import sys\n",
    "from tqdm import tqdm"
   ]
  },
  {
   "cell_type": "code",
   "execution_count": 2,
   "id": "782abf86",
   "metadata": {},
   "outputs": [],
   "source": [
    "combined = pd.read_csv('/Users/yejining/Desktop/graduate school/bithumb/data/combined.csv')"
   ]
  },
  {
   "cell_type": "code",
   "execution_count": 3,
   "id": "6691843c",
   "metadata": {},
   "outputs": [],
   "source": [
    "AZUKI = combined[combined['tokenSymbol']=='AZUKI']\n",
    "BAYC = combined[combined['tokenSymbol']=='BAYC']\n",
    "COOLCATS = combined[combined['tokenSymbol']=='COOL']\n",
    "DOODLES = combined[combined['tokenSymbol']=='DOODLE']\n",
    "MEEBITS = combined[combined['tokenSymbol']=='⚇']"
   ]
  },
  {
   "cell_type": "code",
   "execution_count": 4,
   "id": "22c82b08",
   "metadata": {},
   "outputs": [],
   "source": [
    "AZUKI_tokenID = sorted(AZUKI['tokenID'].unique())\n",
    "BAYC_tokenID = sorted(BAYC['tokenID'].unique())\n",
    "COOLCATS_tokenID = sorted(COOLCATS['tokenID'].unique())\n",
    "DOODLES_tokenID = sorted(DOODLES['tokenID'].unique())\n",
    "MEEBITS_tokenID = sorted(MEEBITS['tokenID'].unique())"
   ]
  },
  {
   "cell_type": "code",
   "execution_count": 5,
   "id": "bfcbbd8a",
   "metadata": {},
   "outputs": [],
   "source": [
    "def mn(s):\n",
    "    \"\"\"Returns a string 's' into a integer if possible, a float if needed or\n",
    "    returns it as is.\"\"\"\n",
    "\n",
    "    # handle None, \"\", 0\n",
    "    if not s:\n",
    "        return s\n",
    "    try:\n",
    "        f = float(s)\n",
    "        i = int(f)\n",
    "        return i if f == i else f\n",
    "    except ValueError:\n",
    "        return s"
   ]
  },
  {
   "cell_type": "code",
   "execution_count": 6,
   "id": "854230eb",
   "metadata": {},
   "outputs": [],
   "source": [
    "#azuki\n",
    "azuki = os.listdir('./AZUKI/azuki')"
   ]
  },
  {
   "cell_type": "code",
   "execution_count": 7,
   "id": "f9533f78",
   "metadata": {},
   "outputs": [
    {
     "data": {
      "text/plain": [
       "['Azuki #3196.png',\n",
       " 'Azuki #163.png',\n",
       " 'Azuki #4821.png',\n",
       " 'Azuki #2288.png',\n",
       " 'Azuki #1781.png']"
      ]
     },
     "execution_count": 7,
     "metadata": {},
     "output_type": "execute_result"
    }
   ],
   "source": [
    "azuki[:5]"
   ]
  },
  {
   "cell_type": "code",
   "execution_count": 8,
   "id": "9be27879",
   "metadata": {},
   "outputs": [],
   "source": [
    "azuki_int = list(map(lambda x: x[7:],azuki))\n",
    "azuki_int = list(map(lambda x: x[:-4],azuki_int))\n",
    "azuki_int = list(map(mn, azuki_int))"
   ]
  },
  {
   "cell_type": "code",
   "execution_count": 9,
   "id": "b58d96b3",
   "metadata": {},
   "outputs": [
    {
     "data": {
      "text/plain": [
       "0"
      ]
     },
     "execution_count": 9,
     "metadata": {},
     "output_type": "execute_result"
    }
   ],
   "source": [
    "azuki_complement = list(set(AZUKI_tokenID) - set(azuki_int))\n",
    "len(azuki_complement)"
   ]
  },
  {
   "cell_type": "code",
   "execution_count": 10,
   "id": "8ade2feb",
   "metadata": {},
   "outputs": [],
   "source": [
    "#boredapeyachtclub\n",
    "bayc = os.listdir('./AZUKI/boredapeyachtclub')"
   ]
  },
  {
   "cell_type": "code",
   "execution_count": 11,
   "id": "38b6abbf",
   "metadata": {},
   "outputs": [
    {
     "data": {
      "text/plain": [
       "['3975.png', '8820.png', '9280.png', '348.png', '1804.png']"
      ]
     },
     "execution_count": 11,
     "metadata": {},
     "output_type": "execute_result"
    }
   ],
   "source": [
    "bayc[:5]"
   ]
  },
  {
   "cell_type": "code",
   "execution_count": 12,
   "id": "700358f4",
   "metadata": {},
   "outputs": [],
   "source": [
    "bayc_int = list(map(lambda x: x[:-4],bayc))\n",
    "bayc_int = list(map(mn, bayc_int))"
   ]
  },
  {
   "cell_type": "code",
   "execution_count": 13,
   "id": "20fba17e",
   "metadata": {},
   "outputs": [
    {
     "data": {
      "text/plain": [
       "[3975, 8820, 9280, 348, 1804]"
      ]
     },
     "execution_count": 13,
     "metadata": {},
     "output_type": "execute_result"
    }
   ],
   "source": [
    "bayc_int[:5]"
   ]
  },
  {
   "cell_type": "code",
   "execution_count": 14,
   "id": "fca6bcb0",
   "metadata": {},
   "outputs": [
    {
     "data": {
      "text/plain": [
       "0"
      ]
     },
     "execution_count": 14,
     "metadata": {},
     "output_type": "execute_result"
    }
   ],
   "source": [
    "bayc_complement = list(set(BAYC_tokenID) - set(bayc_int))\n",
    "len(bayc_complement)\n",
    "# 86"
   ]
  },
  {
   "cell_type": "code",
   "execution_count": 15,
   "id": "e36b932f",
   "metadata": {},
   "outputs": [],
   "source": [
    "#cool-cats-nft\n",
    "COOLCATS = os.listdir('./AZUKI/cool-cats-nft')"
   ]
  },
  {
   "cell_type": "code",
   "execution_count": 16,
   "id": "f0920fd9",
   "metadata": {},
   "outputs": [
    {
     "data": {
      "text/plain": [
       "['Cool Cat #7878.png',\n",
       " 'Cool Cat #9855.png',\n",
       " 'Cool Cat #8593.png',\n",
       " 'Cool Cat #2900.png',\n",
       " 'Cool Cat #580.png']"
      ]
     },
     "execution_count": 16,
     "metadata": {},
     "output_type": "execute_result"
    }
   ],
   "source": [
    "COOLCATS[:5]"
   ]
  },
  {
   "cell_type": "code",
   "execution_count": 17,
   "id": "5a945177",
   "metadata": {},
   "outputs": [],
   "source": [
    "COOLCATS_int = list(map(lambda x: x[10:],COOLCATS))\n",
    "COOLCATS_int = list(map(lambda x: x[:-4],COOLCATS_int))\n",
    "COOLCATS_int = list(map(mn, COOLCATS_int))"
   ]
  },
  {
   "cell_type": "code",
   "execution_count": 18,
   "id": "a1673c2e",
   "metadata": {},
   "outputs": [
    {
     "data": {
      "text/plain": [
       "[7878, 9855, 8593, 2900, 580]"
      ]
     },
     "execution_count": 18,
     "metadata": {},
     "output_type": "execute_result"
    }
   ],
   "source": [
    "COOLCATS_int[:5]"
   ]
  },
  {
   "cell_type": "code",
   "execution_count": 19,
   "id": "2c38771a",
   "metadata": {},
   "outputs": [
    {
     "data": {
      "text/plain": [
       "0"
      ]
     },
     "execution_count": 19,
     "metadata": {},
     "output_type": "execute_result"
    }
   ],
   "source": [
    "COOLCATS_complement = list(set(COOLCATS_tokenID) - set(COOLCATS_int))\n",
    "len(COOLCATS_complement)"
   ]
  },
  {
   "cell_type": "code",
   "execution_count": 20,
   "id": "f7810e7e",
   "metadata": {},
   "outputs": [
    {
     "data": {
      "text/plain": [
       "['Doodle #6191.png',\n",
       " 'Doodle #1826.png',\n",
       " 'Doodle #4786.png',\n",
       " 'Doodle #5498.png',\n",
       " 'Doodle #2491.png']"
      ]
     },
     "execution_count": 20,
     "metadata": {},
     "output_type": "execute_result"
    }
   ],
   "source": [
    "#doodles-official\n",
    "doo = os.listdir('./AZUKI/doodles-official')\n",
    "doo[:5]"
   ]
  },
  {
   "cell_type": "code",
   "execution_count": 21,
   "id": "fa9e0d3c",
   "metadata": {},
   "outputs": [
    {
     "data": {
      "text/plain": [
       "[6191, 1826, 4786, 5498, 2491]"
      ]
     },
     "execution_count": 21,
     "metadata": {},
     "output_type": "execute_result"
    }
   ],
   "source": [
    "doo_int = list(map(lambda x: x[8:],doo))\n",
    "doo_int = list(map(lambda x: x[:-4],doo_int))\n",
    "doo_int = list(map(mn, doo_int))\n",
    "doo_int[:5]"
   ]
  },
  {
   "cell_type": "code",
   "execution_count": 22,
   "id": "73608b6d",
   "metadata": {},
   "outputs": [
    {
     "data": {
      "text/plain": [
       "0"
      ]
     },
     "execution_count": 22,
     "metadata": {},
     "output_type": "execute_result"
    }
   ],
   "source": [
    "DOODLES_complement = list(set(DOODLES_tokenID) - set(doo_int))\n",
    "len(DOODLES_complement)"
   ]
  },
  {
   "cell_type": "code",
   "execution_count": 49,
   "id": "49b8001f",
   "metadata": {},
   "outputs": [
    {
     "data": {
      "text/plain": [
       "['Meebit #18640.jpeg',\n",
       " 'Meebit #19952.jpeg',\n",
       " 'Meebit #8339.jpeg',\n",
       " 'Meebit #11898.jpeg',\n",
       " 'Meebit #7536.jpeg']"
      ]
     },
     "execution_count": 49,
     "metadata": {},
     "output_type": "execute_result"
    }
   ],
   "source": [
    "#meebits\n",
    "meebits = os.listdir('./AZUKI/meebits')\n",
    "meebits[:5]"
   ]
  },
  {
   "cell_type": "code",
   "execution_count": 50,
   "id": "0fb8e9ea",
   "metadata": {},
   "outputs": [
    {
     "data": {
      "text/plain": [
       "[18640, 19952, 8339, 11898, 7536]"
      ]
     },
     "execution_count": 50,
     "metadata": {},
     "output_type": "execute_result"
    }
   ],
   "source": [
    "meebits_int = list(map(lambda x: x[8:],meebits))\n",
    "meebits_int = list(map(lambda x: x[:-4],meebits_int))\n",
    "meebits_int = list(map(mn, meebits_int))\n",
    "meebits_int[:5]"
   ]
  },
  {
   "cell_type": "code",
   "execution_count": 51,
   "id": "15885cb1",
   "metadata": {},
   "outputs": [
    {
     "data": {
      "text/plain": [
       "31"
      ]
     },
     "execution_count": 51,
     "metadata": {},
     "output_type": "execute_result"
    }
   ],
   "source": [
    "meebits_complement = list(set(MEEBITS_tokenID) - set(meebits_int))\n",
    "len(meebits_complement)"
   ]
  },
  {
   "cell_type": "markdown",
   "id": "6893dd93",
   "metadata": {},
   "source": [
    "bayc"
   ]
  },
  {
   "cell_type": "code",
   "execution_count": 42,
   "id": "b2070e26",
   "metadata": {},
   "outputs": [
    {
     "name": "stderr",
     "output_type": "stream",
     "text": [
      "/var/folders/g4/2nx009lx1wz8pyphx3cbx0j00000gn/T/ipykernel_43452/637367221.py:1: DeprecationWarning: executable_path has been deprecated, please pass in a Service object\n",
      "  driver = webdriver.Chrome('/Users/yejining/Desktop/graduate school/bithumb/data/chromedriver')\n",
      "100%|███████████████████████████████████████████| 73/73 [12:15<00:00, 10.07s/it]\n"
     ]
    }
   ],
   "source": [
    "driver = webdriver.Chrome('/Users/yejining/Desktop/graduate school/bithumb/data/chromedriver')\n",
    "driver.implicitly_wait(10)\n",
    "driver.get('https://opensea.io/collection/meebits')\n",
    "\n",
    "time.sleep(random.uniform(2,4))\n",
    "\n",
    "for i in tqdm(meebits_complement[50:]):\n",
    "    try:\n",
    "        getToken = str(i)\n",
    "        tokenInput = driver.find_element(\"xpath\", \"/html/body/div[1]/div/main/div/div/div/div[5]/div/div[3]/div[1]/div/div/div/div/div[2]/div/span/div/div/div[1]/input\")\n",
    "        tokenInput.send_keys(getToken)\n",
    "        time.sleep(random.uniform(1,2))\n",
    "        tokenInput.send_keys(Keys.ENTER)\n",
    "\n",
    "        clearAll = driver.find_element(\"xpath\", \"/html/body/div[1]/div/main/div/div/div/div[5]/div/div[3]/div[3]/div[3]/div[3]/div/div/ul/li[2]/div/button\")\n",
    "        clickClearAll = clearAll.click()\n",
    "        time.sleep(random.uniform(0.5, 1.0))\n",
    "        tokenInput.send_keys(Keys.ENTER)\n",
    "\n",
    "        time.sleep(random.uniform(2.5, 3.0))\n",
    "\n",
    "        whereImg = driver.find_element(\"xpath\", \"/html/body/div[1]/div/main/div/div/div/div[5]/div/div[3]/div[3]/div[3]/div[4]/div[2]/div/div/div/div/article/a/div[1]/div/div/div/span/img\")\n",
    "        imageUrl = whereImg.get_attribute('src')\n",
    "        #Desktop/graduate school/bithumb/data/image/AZUKI/meebits\n",
    "        request.urlretrieve(imageUrl, \"./image/AZUKI/meebits/\"+\"Meebit #\"+str(getToken)+\".jpeg\")\n",
    "\n",
    "        driver.refresh()\n",
    "        time.sleep(random.uniform(2.0,3.0))\n",
    "    except:\n",
    "        driver.refresh()\n",
    "        time.sleep(random.uniform(2.0,3.0))\n",
    "\n",
    "driver.close()"
   ]
  },
  {
   "cell_type": "code",
   "execution_count": 42,
   "id": "9c5680d9",
   "metadata": {},
   "outputs": [
    {
     "name": "stderr",
     "output_type": "stream",
     "text": [
      "/var/folders/g4/2nx009lx1wz8pyphx3cbx0j00000gn/T/ipykernel_22774/3139619587.py:1: DeprecationWarning: executable_path has been deprecated, please pass in a Service object\n",
      "  driver = webdriver.Chrome('/Users/yejining/Desktop/graduate school/bithumb/data/chromedriver')\n",
      "0it [00:00, ?it/s]\n"
     ]
    }
   ],
   "source": [
    "driver = webdriver.Chrome('/Users/yejining/Desktop/graduate school/bithumb/data/chromedriver')\n",
    "driver.implicitly_wait(15)\n",
    "driver.get('https://opensea.io/collection/boredapeyachtclub')\n",
    "\n",
    "time.sleep(random.uniform(2,4))\n",
    "\n",
    "for i in tqdm(bayc_complement[500:]):\n",
    "    try:\n",
    "        time.sleep(random.uniform(2.0,3.0))\n",
    "        getToken = str(i)\n",
    "        tokenInput = driver.find_element(\"xpath\", \"/html/body/div[1]/div/main/div/div/div/div[5]/div/div[3]/div[1]/div/div/div/div/div[2]/div/span/div/div/div[1]/input\")\n",
    "        tokenInput.send_keys(getToken)\n",
    "        time.sleep(random.uniform(1,2))\n",
    "        tokenInput.send_keys(Keys.ENTER)\n",
    "\n",
    "        clearAll = driver.find_element(\"xpath\", \"/html/body/div[1]/div/main/div/div/div/div[5]/div/div[3]/div[3]/div[3]/div[3]/div/div/ul/li[2]/div/button\")\n",
    "        clickClearAll = clearAll.click()\n",
    "        time.sleep(random.uniform(0.5, 1.0))\n",
    "        tokenInput.send_keys(Keys.ENTER)\n",
    "\n",
    "        time.sleep(random.uniform(2.5, 3.0))\n",
    "\n",
    "        whereImg = driver.find_element(\"xpath\", \"/html/body/div[1]/div/main/div/div/div/div[5]/div/div[3]/div[3]/div[3]/div[4]/div[2]/div/div/div/div/article/a/div[1]/div/div/div/span/img\")\n",
    "        imageUrl = whereImg.get_attribute('src')\n",
    "        #Desktop/graduate school/bithumb/data/image/AZUKI/boredapeyachtclub\n",
    "        request.urlretrieve(imageUrl, \"./image/AZUKI/boredapeyachtclub/\" +str(getToken)+ \".png\")\n",
    "\n",
    "        driver.refresh()\n",
    "        \n",
    "    except:\n",
    "        driver.refresh()\n",
    "        time.sleep(random.uniform(2.0,3.0))\n",
    "\n",
    "driver.close()"
   ]
  },
  {
   "cell_type": "code",
   "execution_count": null,
   "id": "2517916a",
   "metadata": {},
   "outputs": [],
   "source": []
  }
 ],
 "metadata": {
  "kernelspec": {
   "display_name": "Python 3 (ipykernel)",
   "language": "python",
   "name": "python3"
  },
  "language_info": {
   "codemirror_mode": {
    "name": "ipython",
    "version": 3
   },
   "file_extension": ".py",
   "mimetype": "text/x-python",
   "name": "python",
   "nbconvert_exporter": "python",
   "pygments_lexer": "ipython3",
   "version": "3.8.13"
  }
 },
 "nbformat": 4,
 "nbformat_minor": 5
}
